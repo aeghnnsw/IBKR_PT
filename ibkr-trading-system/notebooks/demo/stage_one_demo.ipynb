{
 "cells": [
  {
   "cell_type": "markdown",
   "metadata": {},
   "source": [
    "# Stage One Initialization Demo\n",
    "\n",
    "This notebook demonstrates the `initialize_stage_one` function from our trading system. This function handles:\n",
    "1. Connecting to Interactive Brokers (TWS or Gateway).\n",
    "2. Fetching basic account summary information.\n",
    "3. Fetching sample market data for a specified stock symbol.\n",
    "\n",
    "**Important:** Before running the code cells below, ensure that Interactive Brokers Trader Workstation (TWS) or IB Gateway is running, logged in, and configured to accept API connections on the correct port (e.g., 7497 for TWS paper trading, 4002 for Gateway paper trading)."
   ]
  },
  {
   "cell_type": "markdown",
   "metadata": {},
   "source": [
    "## 1. Adjust Python Path (if necessary) and Imports\n",
    "\n",
    "If you are running this notebook from the `ibkr-trading-system/notebooks/demo/` directory, you might need to adjust the Python path to correctly import modules from the `src` directory. The following cell attempts to do this."
   ]
  },
  {
   "cell_type": "code",
   "execution_count": null,
   "metadata": {},
   "outputs": [],
   "source": [
    "import sys\n",
    "import os\n",
    "import json # For pretty printing dicts\n",
    "\n",
    "# Adjust path to include the 'src' directory, assuming the notebook is in 'notebooks/demo'\n",
    "module_path = os.path.abspath(os.path.join(os.getcwd(), '..', '..', 'src'))\n",
    "if module_path not in sys.path:\n",
    "    sys.path.append(module_path)\n",
    "\n",
    "# Now import the function\n",
    "try:\n",
    "    from stages import initialize_stage_one\n",
    "    print("Successfully imported initialize_stage_one from src.stages")\n",
    "except ImportError as e:\n",
    "    print(f"Error importing initialize_stage_one: {e}")\n",
    "    print(f"Current sys.path: {sys.path}")\n",
    "    print("Please ensure 'ibkr-trading-system/src' is in your Python path.")"
   ]
  },
  {
   "cell_type": "markdown",
   "metadata": {},
   "source": [
    "## 2. Define Connection Parameters and Run Stage One\n",
    "\n",
    "Below, we define the parameters for the `initialize_stage_one` function. You might need to adjust `host`, `port`, and `client_id` based on your TWS/Gateway setup.\n",
    "\n",
    "- **host**: Typically '127.0.0.1' (localhost).\n",
    "- **port**: Default for TWS is 7496 (live) or 7497 (paper). Default for Gateway is 4001 (live) or 4002 (paper).\n",
    "- **client_id**: A unique ID for this client connection. If you have other API applications running, ensure this is unique.\n",
    "- **account_code**: Your IB account number. The function will use a default if not connected or if fetching fails, but for live data, this should be your actual account.\n",
    "- **symbol**: The stock symbol to fetch data for (e.g., 'AAPL', 'MSFT', 'GOOGL')."
   ]
  },
  {
   "cell_type": "code",
   "execution_count": null,
   "metadata": {},
   "outputs": [],
   "source": [
    "# Connection parameters - MODIFY THESE IF YOUR SETUP IS DIFFERENT\n",
    "IB_HOST = '127.0.0.1'\n",
    "IB_PORT = 7497  # Default for TWS Paper trading. Use 4002 for IB Gateway Paper trading.\n",
    "CLIENT_ID = 101 # Choose a unique client ID\n",
    "ACCOUNT_CODE = 'DU1234567' # Replace with your paper trading account number for more accurate testing, otherwise mock data will be shown for account summary.\n",
    "STOCK_SYMBOL = 'AAPL'\n",
    "STOCK_EXCHANGE = 'SMART' # SMART is generally correct for US stocks\n",
    "STOCK_CURRENCY = 'USD'\n",
    "\n",
    "print(f"Attempting to run Stage One with the following parameters:")\n",
    "print(f"  Host: {IB_HOST}")\n",
    "print(f"  Port: {IB_PORT}")\n",
    "print(f"  Client ID: {CLIENT_ID}")\n",
    "print(f"  Account Code: {ACCOUNT_CODE}")\n",
    "print(f"  Symbol: {STOCK_SYMBOL}")\n",
    "\n",
    "# Call the stage one initialization function\n",
    "stage_one_results = None\n",
    "try:\n",
    "    stage_one_results = initialize_stage_one(\n",
    "        host=IB_HOST, \n",
    "        port=IB_PORT, \n",
    "        client_id=CLIENT_ID, \n",
    "        account_code=ACCOUNT_CODE, \n",
    "        symbol=STOCK_SYMBOL,\n",
    "        exchange=STOCK_EXCHANGE,\n",
    "        currency=STOCK_CURRENCY\n",
    "    )\n",
    "except Exception as e:\n",
    "    print(f"An unexpected error occurred while running initialize_stage_one: {e}")\n",
    "    print("This might be due to issues with the IB connection or the function itself.")"
   ]
  },
  {
   "cell_type": "markdown",
   "metadata": {},
   "source": [
    "## 3. Review Stage One Results\n",
    "\n",
    "The `stage_one_results` dictionary contains the outcome of the initialization process. Let's inspect its contents."
   ]
  },
  {
   "cell_type": "code",
   "execution_count": null,
   "metadata": {},
   "outputs": [],
   "source": [
    "if stage_one_results:\n",
    "    print("--- Stage One Results ---")\n",
    "    print(f"Connection Status: {stage_one_results.get('connection_status')}")\n",
    "    \n",
    "    print("\nAccount Summary:")\n",
    "    account_summary = stage_one_results.get('account_summary', {})
",
    "    if isinstance(account_summary, dict):\n",
    "        for key, value in account_summary.items():\n",
    "            print(f"  {key}: {value}")\n",
    "    else:\n",
    "        print(f"  {account_summary}")\n",
    "        \n",
    "    print("\nMarket Data:")\n",
    "    market_data = stage_one_results.get('market_data')\n",
    "    if isinstance(market_data, dict):\n",
    "        for key, value in market_data.items():\n",
    "            print(f"  {key}: {value}")\n",
    "    else:\n",
    "        print(f"  {market_data}") # Handles cases where it's an error string\n",
    "        \n",
    "    if stage_one_results.get('error'):\n",
    "        print(f"\nError during Stage One: {stage_one_results.get('error')}")\n",
    "else:\n",
    "    print("Stage one results are not available. An error likely occurred during execution.")"
   ]
  },
  {
   "cell_type": "markdown",
   "metadata": {},
   "source": [
    "## 4. Further Checks and Interpretation\n",
    "\n",
    "- **Connection Status**: Should be `True` if TWS/Gateway is running and accessible.\n",
    "- **Account Summary**: If connected, this might show live data (if your account has it and the function can parse it) or mock data if the connection failed or specific data points weren't found. The 'ConnectionStatus' field within the summary itself will indicate 'Live Data' or 'Mock Data'.\n",
    "- **Market Data**: If successful, you should see details like last price, bid/ask for the chosen symbol. If there was an issue (e.g., market data permissions, symbol not found, TWS not set up for data), this might be an error message or `None`.\n",
    "- **Error**: If any significant error occurred during the `initialize_stage_one` call (like a connection failure), it will be reported here.\n",
    "\n",
    "If you encounter issues:\n",
    "1. Double-check TWS/Gateway status and API settings.\n",
    "2. Verify the `IB_HOST`, `IB_PORT`, and `CLIENT_ID` parameters.\n",
    "3. Ensure the `ACCOUNT_CODE` is correct for live data, though mock data should still appear otherwise.\n",
    "4. Check your IB account's market data subscriptions for the symbol if `market_data` is missing or shows errors."
   ]
  }
 ],
 "metadata": {
  "kernelspec": {
   "display_name": "Python 3 (ipykernel)",
   "language": "python",
   "name": "python3"
  },
  "language_info": {
   "codemirror_mode": {
    "name": "ipython",
    "version": 3
   },
   "file_extension": ".py",
   "mimetype": "text/x-python",
   "name": "python",
   "nbconvert_exporter": "python",
   "pygments_lexer": "ipython3",
   "version": "3.10.12"
  }
 },
 "nbformat": 4,
 "nbformat_minor": 5
}
